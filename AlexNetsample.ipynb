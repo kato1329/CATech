{
  "nbformat": 4,
  "nbformat_minor": 0,
  "metadata": {
    "colab": {
      "provenance": [],
      "authorship_tag": "ABX9TyMMSOswRmPW0SGePNDd75O0",
      "include_colab_link": true
    },
    "kernelspec": {
      "name": "python3",
      "display_name": "Python 3"
    },
    "language_info": {
      "name": "python"
    }
  },
  "cells": [
    {
      "cell_type": "markdown",
      "metadata": {
        "id": "view-in-github",
        "colab_type": "text"
      },
      "source": [
        "<a href=\"https://colab.research.google.com/github/kato1329/CATech/blob/main/AlexNetsample.ipynb\" target=\"_parent\"><img src=\"https://colab.research.google.com/assets/colab-badge.svg\" alt=\"Open In Colab\"/></a>"
      ]
    },
    {
      "cell_type": "code",
      "execution_count": 1,
      "metadata": {
        "id": "GwrBbiYS03jj"
      },
      "outputs": [],
      "source": [
        "import torch\n",
        "from torch import nn\n",
        "\n",
        "class CNNblock(nn.Module):\n",
        "  def __init__(\n",
        "      self,\n",
        "      input_channel:int\n",
        "  ) -> None:\n",
        "    super().__init__()\n",
        "    self.conv1 = nn.Conv2d(3,96,kernel_size = (11,11))\n",
        "    self.pool1 = nn.MaxPool2d(kernel_size = (3,3),stride = 2)\n",
        "    self.conv2 = nn.Conv2d(96,256,kernel_size = (5,5))\n",
        "    self.pool2 = nn.MaxPool2d(kernel_size = (3,3),stride = 2)\n",
        "    self.conv3 = nn.Conv2d(256,384,kernel_size = (3,3))\n",
        "    self.conv4 = nn.Conv2d(384,384,kernel_size = (3,3))\n",
        "    self.conv5 = nn.Conv2d(384,256,kernel_size = (3,3))\n",
        "    self.pool5  = nn.MaxPool2d(kernel_size = (3,3),stride = 2)\n",
        "    self.flatten = nn.Flatten()\n",
        "  def forward(\n",
        "      self,\n",
        "      input:torch.Tensor\n",
        "  ) -> torch.Tensor:\n",
        "    x = self.pool1(self.conv1(input))\n",
        "    x = self.pool2(self.conv2(x))\n",
        "    x = self.conv3(x)\n",
        "    x = self.conv4(x)\n",
        "    x = self.pool5(self.conv5(x))\n",
        "    output = self.flatten(x)\n",
        "    return output\n",
        "class FFNblock(nn.Module):\n",
        "  def __init__(\n",
        "      self,\n",
        "      input_features:int,\n",
        "      out_features:int,\n",
        "      )->None:\n",
        "        super().__init__()\n",
        "        self.linear1 = nn.Linear(input_features,4096)\n",
        "        self.linear2 = nn.Linear(4096,4096)\n",
        "        self.linear3 = nn.Linear(4096,out_features)\n",
        "        self.relu = nn.ReLU(inplace = False)\n",
        "        self.softmax = nn.Softmax(dim = 1)\n",
        "  def forward(\n",
        "      self,\n",
        "      input:torch.Tensor\n",
        "  ) -> torch.Tensor:\n",
        "    x = self.relu(self.linear1(input))\n",
        "    x = self.relu(self.linear2(x))\n",
        "    x = self.relu(self.linear3(x))\n",
        "    output = self.softmax(x)\n",
        "    return output"
      ]
    },
    {
      "cell_type": "code",
      "source": [
        "print(CNNblock(3))"
      ],
      "metadata": {
        "colab": {
          "base_uri": "https://localhost:8080/"
        },
        "id": "MQ8Q12uYgaRX",
        "outputId": "2649b3b6-3fff-444e-f9b0-adb1ed8acd09"
      },
      "execution_count": 2,
      "outputs": [
        {
          "output_type": "stream",
          "name": "stdout",
          "text": [
            "CNNblock(\n",
            "  (conv1): Conv2d(3, 96, kernel_size=(11, 11), stride=(1, 1))\n",
            "  (pool1): MaxPool2d(kernel_size=(3, 3), stride=2, padding=0, dilation=1, ceil_mode=False)\n",
            "  (conv2): Conv2d(96, 256, kernel_size=(5, 5), stride=(1, 1))\n",
            "  (pool2): MaxPool2d(kernel_size=(3, 3), stride=2, padding=0, dilation=1, ceil_mode=False)\n",
            "  (conv3): Conv2d(256, 384, kernel_size=(3, 3), stride=(1, 1))\n",
            "  (conv4): Conv2d(384, 384, kernel_size=(3, 3), stride=(1, 1))\n",
            "  (conv5): Conv2d(384, 256, kernel_size=(3, 3), stride=(1, 1))\n",
            "  (pool5): MaxPool2d(kernel_size=(3, 3), stride=2, padding=0, dilation=1, ceil_mode=False)\n",
            "  (flatten): Flatten(start_dim=1, end_dim=-1)\n",
            ")\n"
          ]
        }
      ]
    },
    {
      "cell_type": "code",
      "source": [
        "class AlexNetModule(nn.Module):\n",
        "  def __init__(\n",
        "      self,\n",
        "      cnn_in:int,\n",
        "      ffn_in:int,\n",
        "      ffn_out:int\n",
        "  ) -> None:\n",
        "    super().__init__()\n",
        "    self.cnn = CNNblock(cnn_in)\n",
        "    self.ffn = FFNblock(ffn_in,ffn_out)\n",
        "  def forward(\n",
        "      self,\n",
        "      input:torch.Tensor\n",
        "  ) -> torch.Tensor:\n",
        "    x = self.cnn(input)\n",
        "    output = self.ffn(x)\n",
        "    return output"
      ],
      "metadata": {
        "id": "z8ET6Ccd9utA"
      },
      "execution_count": 3,
      "outputs": []
    },
    {
      "cell_type": "code",
      "source": [
        "device = \"cuda\" if torch.cuda.is_available() else \"cpu\"\n",
        "print(f\"Using {device} device\")"
      ],
      "metadata": {
        "colab": {
          "base_uri": "https://localhost:8080/"
        },
        "id": "W91wnsiFBt22",
        "outputId": "64bdec02-1d09-478b-eb12-071b3d1f754f"
      },
      "execution_count": 4,
      "outputs": [
        {
          "output_type": "stream",
          "name": "stdout",
          "text": [
            "Using cpu device\n"
          ]
        }
      ]
    },
    {
      "cell_type": "code",
      "source": [
        "model = AlexNetModule(\n",
        "    cnn_in = 3,\n",
        "    ffn_in = 112896,\n",
        "    ffn_out = 10\n",
        ").to(device)"
      ],
      "metadata": {
        "id": "nbuhxIJdB_wy"
      },
      "execution_count": 5,
      "outputs": []
    },
    {
      "cell_type": "code",
      "source": [
        "criterion = nn.CrossEntropyLoss()\n",
        "optimizer = torch.optim.Adam(model.parameters(),lr=0.05)"
      ],
      "metadata": {
        "id": "bJVWPqkDmQz6"
      },
      "execution_count": 6,
      "outputs": []
    },
    {
      "cell_type": "code",
      "source": [
        "###モデルの次元が正しいかどうか確かめるターン\n",
        "###モデルに224×224のRGB画像を食わせて動かしてみる\n",
        "import numpy as np\n",
        "import matplotlib.pyplot as plt\n",
        "\n",
        "test_image = np.random.rand(1,3,224,224)*100\n",
        "test_label = np.zeros((1,10))\n",
        "test_label[0][0] = 1"
      ],
      "metadata": {
        "id": "V_pMbOX9nFtG"
      },
      "execution_count": 7,
      "outputs": []
    },
    {
      "cell_type": "code",
      "source": [
        "x = torch.from_numpy(test_image.astype(np.float32)).clone()\n",
        "y = torch.from_numpy(test_label.astype(np.float32)).clone()"
      ],
      "metadata": {
        "id": "3c5X1yh5oApe"
      },
      "execution_count": 8,
      "outputs": []
    },
    {
      "cell_type": "code",
      "source": [
        "input = x.to(device)\n",
        "target = y.to(device)\n",
        "optimizer.zero_grad()\n",
        "output = model(input)\n",
        "loss = criterion(output,target)\n",
        "print(\"outputの形状は{}\".format(output.shape))\n",
        "print(\"outputの値は{}\".format(output[0]))\n",
        "print(\"lossは{}\".format(loss))"
      ],
      "metadata": {
        "colab": {
          "base_uri": "https://localhost:8080/"
        },
        "id": "mEz9CukUpyPE",
        "outputId": "f6ad8e36-063a-4c66-d12d-e48e5203049d"
      },
      "execution_count": 9,
      "outputs": [
        {
          "output_type": "stream",
          "name": "stdout",
          "text": [
            "outputの形状はtorch.Size([1, 10])\n",
            "outputの値はtensor([0.1089, 0.0790, 0.0700, 0.1327, 0.0950, 0.0709, 0.0700, 0.2197, 0.0774,\n",
            "        0.0764], grad_fn=<SelectBackward0>)\n",
            "lossは2.294706106185913\n"
          ]
        }
      ]
    },
    {
      "cell_type": "code",
      "source": [],
      "metadata": {
        "id": "0VnG1IlXR999"
      },
      "execution_count": null,
      "outputs": []
    }
  ]
}