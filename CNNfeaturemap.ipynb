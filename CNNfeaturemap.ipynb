{
  "nbformat": 4,
  "nbformat_minor": 0,
  "metadata": {
    "colab": {
      "provenance": [],
      "gpuType": "T4",
      "authorship_tag": "ABX9TyPKxG8DoCRyiK9olkHeOrq2",
      "include_colab_link": true
    },
    "kernelspec": {
      "name": "python3",
      "display_name": "Python 3"
    },
    "language_info": {
      "name": "python"
    },
    "accelerator": "GPU"
  },
  "cells": [
    {
      "cell_type": "markdown",
      "metadata": {
        "id": "view-in-github",
        "colab_type": "text"
      },
      "source": [
        "<a href=\"https://colab.research.google.com/github/kato1329/CATech/blob/main/CNNfeaturemap.ipynb\" target=\"_parent\"><img src=\"https://colab.research.google.com/assets/colab-badge.svg\" alt=\"Open In Colab\"/></a>"
      ]
    },
    {
      "cell_type": "code",
      "execution_count": 1,
      "metadata": {
        "id": "U_G76_rvVg5n"
      },
      "outputs": [],
      "source": [
        "import torch\n",
        "from torch import nn\n",
        "import numpy as np\n",
        "import pandas as pd\n",
        "import matplotlib.pyplot as plt\n",
        "import torchvision.models as models\n",
        "import torchvision\n",
        "import torchvision.transforms as transforms\n",
        "import cv2"
      ]
    },
    {
      "cell_type": "code",
      "source": [
        "from google.colab import drive\n",
        "drive.mount('/content/drive')"
      ],
      "metadata": {
        "colab": {
          "base_uri": "https://localhost:8080/"
        },
        "id": "z1xii8w-Wzq7",
        "outputId": "a45ae1a1-b981-477d-870d-b2924c0de020"
      },
      "execution_count": 2,
      "outputs": [
        {
          "output_type": "stream",
          "name": "stdout",
          "text": [
            "Mounted at /content/drive\n"
          ]
        }
      ]
    },
    {
      "cell_type": "code",
      "source": [
        "transform = transforms.Compose([transforms.ToTensor(), transforms.Normalize((0.5),(0.5))])\n",
        "\n",
        "trainset = torchvision.datasets.MNIST(root='./data', train=True, download=True, transform=transform)\n",
        "trainloader = torch.utils.data.DataLoader(trainset, batch_size=128, shuffle=True,num_workers=2)\n",
        "\n",
        "testset = torchvision.datasets.MNIST(root='./data', train=False, download=True, transform=transform)\n",
        "testloader = torch.utils.data.DataLoader(testset, batch_size=128, shuffle=True,num_workers=2)\n",
        "\n",
        "folder_path = './drive/MyDrive/catimage/'"
      ],
      "metadata": {
        "id": "Ukw6KCflXbMN"
      },
      "execution_count": 45,
      "outputs": []
    },
    {
      "cell_type": "code",
      "source": [
        "image_name = 'cat1.jpeg'\n",
        "image_path = folder_path+image_name\n",
        "image = cv2.imread(image_path)\n",
        "image = cv2.resize(image,dsize=(28,28))\n",
        "image = torch.from_numpy(image.transpose(2,0,1)).view(1,3,28,28).to(torch.float32)"
      ],
      "metadata": {
        "id": "adbAconoX0kT"
      },
      "execution_count": 46,
      "outputs": []
    },
    {
      "cell_type": "code",
      "source": [
        "class sampleCNN(nn.Module):\n",
        "  def __init__(self):\n",
        "    super().__init__()\n",
        "    self.conv1 = nn.Conv2d(1,1,kernel_size=3,padding=1)\n",
        "    self.conv2 = nn.Conv2d(1,1,kernel_size=3,padding=1)\n",
        "    self.conv3 = nn.Conv2d(1,1,kernel_size=3,padding=1)\n",
        "    self.conv4 = nn.Conv2d(1,1,kernel_size=3,padding=1)\n",
        "    self.linear1 = nn.Linear(28*28,512)\n",
        "    self.linear2 = nn.Linear(512,10)\n",
        "    self.flatten = nn.Flatten()\n",
        "    self.relu = nn.ReLU()\n",
        "    self.batchnorm = nn.BatchNorm2d(1)\n",
        "    self.Softmax = nn.Softmax(dim=1)\n",
        "  def forward(self,input):\n",
        "    x = self.relu(self.conv1(input))\n",
        "    feature_map1 = x[0][0]\n",
        "    x = self.relu(self.conv2(self.batchnorm(x)))\n",
        "    feature_map2 = x[0][0]\n",
        "    x = self.relu(self.conv3(self.batchnorm(x)))\n",
        "    feature_map3 = x[0][0]\n",
        "    x = self.relu(self.conv4(self.batchnorm(x)))\n",
        "    feature_map4 = x[0][0]\n",
        "    x = self.flatten(x)\n",
        "    x = self.relu(self.linear1(x))\n",
        "    x = self.relu(self.linear2(x))\n",
        "    feature_maps = [feature_map1,feature_map2,feature_map3,feature_map4]\n",
        "    return x,feature_maps"
      ],
      "metadata": {
        "id": "SHncpo7NYiXJ"
      },
      "execution_count": 63,
      "outputs": []
    },
    {
      "cell_type": "code",
      "source": [
        "device = 'cuda' if torch.cuda.is_available() else 'cpu'\n",
        "print(f\"Using {device} device\")\n",
        "model = sampleCNN().to(device)\n",
        "criterion = nn.CrossEntropyLoss()\n",
        "optimizer = torch.optim.SGD(model.parameters(),lr=0.01)"
      ],
      "metadata": {
        "id": "TmtyOeR3anSG",
        "colab": {
          "base_uri": "https://localhost:8080/"
        },
        "outputId": "babf28f6-cd8b-4f22-b6c7-e618e82f4e60"
      },
      "execution_count": 68,
      "outputs": [
        {
          "output_type": "stream",
          "name": "stdout",
          "text": [
            "Using cuda device\n"
          ]
        }
      ]
    },
    {
      "cell_type": "code",
      "source": [
        "epoch = 100\n",
        "from tqdm import tqdm"
      ],
      "metadata": {
        "id": "2q6SgIXvo8FM"
      },
      "execution_count": 70,
      "outputs": []
    },
    {
      "cell_type": "code",
      "source": [
        "tmp = iter(trainloader)\n",
        "with torch.no_grad():\n",
        "  for batch in tmp:\n",
        "    inputs,labels = batch\n",
        "    inputs = inputs.to(device)\n",
        "    labels = labels.to(device)\n",
        "    pred,_ = model(inputs)\n",
        "    print(\"predのshapeは{}\".format(pred.shape))\n",
        "\n",
        "    loss = criterion(pred,labels)\n",
        "    pred_label = torch.max(pred,1)[1]\n",
        "    print(\"pred_labelのshapeは{}\".format(pred_label.shape))\n",
        "    print(\"labelsのshapeは{}\".format(labels.shape))\n",
        "    print(\"pred_labelの1-10番目は{}\".format(pred_label[:10]))\n",
        "    print(\"labelsの1-10番目は{}\".format(labels[:10]))\n",
        "    test_accuracy = torch.sum(pred_label==labels).item()/len(labels)\n",
        "    print(\"accuracyは{}\".format(test_accuracy))\n",
        "    break"
      ],
      "metadata": {
        "colab": {
          "base_uri": "https://localhost:8080/"
        },
        "id": "kIaLQVugIyf9",
        "outputId": "f263dc5c-07b1-44f6-a2ad-9cd10f77a85b"
      },
      "execution_count": 67,
      "outputs": [
        {
          "output_type": "stream",
          "name": "stdout",
          "text": [
            "predのshapeはtorch.Size([128, 10])\n",
            "pred_labelのshapeはtorch.Size([128])\n",
            "labelsのshapeはtorch.Size([128])\n",
            "pred_labelの1-10番目はtensor([6, 2, 2, 1, 6, 0, 1, 0, 1, 2], device='cuda:0')\n",
            "labelsの1-10番目はtensor([9, 1, 7, 7, 7, 5, 5, 0, 1, 8], device='cuda:0')\n",
            "accuracyは0.15625\n"
          ]
        }
      ]
    },
    {
      "cell_type": "code",
      "source": [
        "for i in range(epoch):\n",
        "  print('---------------------')\n",
        "  print(\"Epoch:{}/{}\".format(i+1,epoch))\n",
        "\n",
        "  train_loss = 0\n",
        "  train_accuracy = 0\n",
        "  test_loss = 0\n",
        "  test_accuracy = 0\n",
        "\n",
        "  model.train()\n",
        "\n",
        "  for batch in tqdm(trainloader):\n",
        "    optimizer.zero_grad()\n",
        "\n",
        "    inputs,labels = batch\n",
        "    inputs = inputs.to(device)\n",
        "    labels = labels.to(device)\n",
        "    pred,_ = model(inputs)\n",
        "    loss = criterion(pred,labels)\n",
        "    loss.backward()\n",
        "    optimizer.step()\n",
        "    train_loss += loss.item()\n",
        "    pred_label = torch.max(pred,1)[1]\n",
        "    train_accuracy += torch.sum(pred_label==labels).item()/len(labels)\n",
        "  train_loss = train_loss/len(trainloader)\n",
        "  train_accuracy = train_accuracy/len(trainloader)\n",
        "  print(\"train_loss = {}\".format(train_loss))\n",
        "  print(\"train_acc = {}\".format(train_accuracy))\n",
        "  model.eval()\n",
        "  with torch.no_grad():\n",
        "    for batch in tqdm(testloader):\n",
        "      inputs,labels = batch\n",
        "      inputs = inputs.to(device)\n",
        "      labels = labels.to(device)\n",
        "      pred,_ = model(inputs)\n",
        "      loss = criterion(pred,labels)\n",
        "      test_loss += loss.item()\n",
        "      pred_label = torch.max(pred,1)[1]\n",
        "      test_accuracy += torch.sum(pred_label==labels).item()/len(labels)\n",
        "  test_loss = test_loss/len(testloader)\n",
        "  test_accuracy = test_accuracy/len(testloader)\n",
        "  print(\"test_loss = {}\".format(test_loss))\n",
        "  print(\"test_acc = {}\".format(test_accuracy))"
      ],
      "metadata": {
        "id": "w97k8VO6fhF7"
      },
      "execution_count": null,
      "outputs": []
    },
    {
      "cell_type": "code",
      "source": [
        "tmp = iter(trainloader)\n",
        "model.eval()\n",
        "feature_map = []\n",
        "input_image = torch.Tensor()\n",
        "with torch.no_grad():\n",
        "  for batch in tmp:\n",
        "    inputs,labels = batch\n",
        "    input_image = inputs[0]\n",
        "    inputs = inputs.to(device)\n",
        "    labels = labels.to(device)\n",
        "    pred,feature_maps = model(inputs)\n",
        "    print(\"predのshapeは{}\".format(pred.shape))\n",
        "    loss = criterion(pred,labels)\n",
        "    pred_label = torch.max(pred,1)[1]\n",
        "    print(\"pred_labelのshapeは{}\".format(pred_label.shape))\n",
        "    print(\"labelsのshapeは{}\".format(labels.shape))\n",
        "    print(\"pred_labelの1-10番目は{}\".format(pred_label[:10]))\n",
        "    print(\"labelsの1-10番目は{}\".format(labels[:10]))\n",
        "    test_accuracy = torch.sum(pred_label==labels).item()/len(labels)\n",
        "    print(\"accuracyは{}\".format(test_accuracy))\n",
        "    print(len(feature_maps))\n",
        "    feature_map.append(feature_maps[0].to('cpu'))\n",
        "    feature_map.append(feature_maps[1].to('cpu'))\n",
        "    feature_map.append(feature_maps[2].to('cpu'))\n",
        "    feature_map.append(feature_maps[3].to('cpu'))\n",
        "    break"
      ],
      "metadata": {
        "id": "Ft4GW7qTV5ae",
        "colab": {
          "base_uri": "https://localhost:8080/"
        },
        "outputId": "cb8dbd06-7adf-4c55-9f9d-585d89a66c7d"
      },
      "execution_count": 98,
      "outputs": [
        {
          "output_type": "stream",
          "name": "stdout",
          "text": [
            "predのshapeはtorch.Size([128, 10])\n",
            "pred_labelのshapeはtorch.Size([128])\n",
            "labelsのshapeはtorch.Size([128])\n",
            "pred_labelの1-10番目はtensor([4, 9, 3, 1, 8, 1, 3, 1, 5, 6], device='cuda:0')\n",
            "labelsの1-10番目はtensor([4, 9, 3, 1, 8, 1, 3, 0, 5, 6], device='cuda:0')\n",
            "accuracyは0.96875\n",
            "4\n"
          ]
        }
      ]
    },
    {
      "cell_type": "code",
      "source": [
        "input_image.shape"
      ],
      "metadata": {
        "colab": {
          "base_uri": "https://localhost:8080/"
        },
        "id": "H8OkkcX2Se0a",
        "outputId": "beaef809-2418-4244-ab79-9f1850bb0ef2"
      },
      "execution_count": 99,
      "outputs": [
        {
          "output_type": "execute_result",
          "data": {
            "text/plain": [
              "torch.Size([1, 28, 28])"
            ]
          },
          "metadata": {},
          "execution_count": 99
        }
      ]
    },
    {
      "cell_type": "code",
      "source": [
        "img = input_image.permute(1,2,0) # CHW -> HWC\n",
        "plt.imshow(img)"
      ],
      "metadata": {
        "id": "QSlKUQaUc9Pd",
        "colab": {
          "base_uri": "https://localhost:8080/",
          "height": 448
        },
        "outputId": "9e42a977-7abf-4b22-9ca9-7039d4884824"
      },
      "execution_count": 100,
      "outputs": [
        {
          "output_type": "execute_result",
          "data": {
            "text/plain": [
              "<matplotlib.image.AxesImage at 0x7d2a605b1630>"
            ]
          },
          "metadata": {},
          "execution_count": 100
        },
        {
          "output_type": "display_data",
          "data": {
            "text/plain": [
              "<Figure size 640x480 with 1 Axes>"
            ],
            "image/png": "[encoded data removed]"
          },
          "metadata": {}
        }
      ]
    },
    {
      "cell_type": "code",
      "source": [
        "feature_map = np.stack(feature_map,axis=0)"
      ],
      "metadata": {
        "id": "FtghNgKCTeNj"
      },
      "execution_count": 101,
      "outputs": []
    },
    {
      "cell_type": "code",
      "source": [
        "print(feature_map.shape)"
      ],
      "metadata": {
        "colab": {
          "base_uri": "https://localhost:8080/"
        },
        "id": "RtACyeuEVs6H",
        "outputId": "28f110d4-12ac-48c3-9e23-2f594c1cc07c"
      },
      "execution_count": 102,
      "outputs": [
        {
          "output_type": "stream",
          "name": "stdout",
          "text": [
            "(4, 28, 28)\n"
          ]
        }
      ]
    },
    {
      "cell_type": "code",
      "source": [
        "fig = plt.figure(figsize=(7,7))\n",
        "\n",
        "ax0 = fig.add_subplot(2,3,1)\n",
        "ax0.imshow(input_image.permute(1,2,0),cmap='viridis')\n",
        "ax0.set_title('input')\n",
        "\n",
        "ax1 = fig.add_subplot(2,3,2)\n",
        "ax1.imshow(feature_map[0],cmap='viridis')\n",
        "ax1.set_title('conv1')\n",
        "\n",
        "ax2 = fig.add_subplot(2,3,3)\n",
        "ax2.imshow(feature_map[1],cmap='viridis')\n",
        "ax2.set_title('conv2')\n",
        "\n",
        "ax3 = fig.add_subplot(2,3,4)\n",
        "ax3.imshow(feature_map[2],cmap='viridis')\n",
        "ax3.set_title('conv3')\n",
        "\n",
        "ax4 = fig.add_subplot(2,3,5)\n",
        "ax4.imshow(feature_map[3],cmap='viridis')\n",
        "ax4.set_title('conv4')\n",
        "\n",
        "plt.show()"
      ],
      "metadata": {
        "id": "K5d3dYRYYhqY",
        "colab": {
          "base_uri": "https://localhost:8080/",
          "height": 536
        },
        "outputId": "df2c5e5e-8154-4dcc-aa0b-84bf79e8fefc"
      },
      "execution_count": 107,
      "outputs": [
        {
          "output_type": "display_data",
          "data": {
            "text/plain": [
              "<Figure size 700x700 with 5 Axes>"
            ],
            "image/png": "[encoded data removed]"
          },
          "metadata": {}
        }
      ]
    },
    {
      "cell_type": "code",
      "source": [],
      "metadata": {
        "id": "Xeu6MPrebWB6"
      },
      "execution_count": null,
      "outputs": []
    }
  ]
}